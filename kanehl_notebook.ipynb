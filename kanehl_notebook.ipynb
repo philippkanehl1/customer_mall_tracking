{
 "cells": [
  {
   "cell_type": "markdown",
   "metadata": {},
   "source": [
    "# Minodes Classification Challenge"
   ]
  },
  {
   "cell_type": "markdown",
   "metadata": {},
   "source": [
    "The data set at hand contains gathered signals of WiFi routers (nodes) distributed in a mall. The signals are probe requests emitted by smartphones which have been carried around various pre-defined zones within the mall. In the data set the corresponding zone has been linked with the respective signal strengths received by surrounding nodes. The signal strength is provided in relative amplitude decay on logarithmic scale (decibel).\n",
    "\n",
    "Aim of the challenge is to build and validate a classifier, that predicts the corresponding zone based on the signals received by the nodes. Given 449 unique zones this challenge poses an extensive multiclass classification task."
   ]
  },
  {
   "cell_type": "markdown",
   "metadata": {},
   "source": [
    "## Load Libraries and Data"
   ]
  },
  {
   "cell_type": "code",
   "execution_count": 1,
   "metadata": {},
   "outputs": [],
   "source": [
    "import pandas as pd\n",
    "import itertools\n",
    "import matplotlib.pyplot as plt\n",
    "import ast\n",
    "import numpy as np\n",
    "import seaborn as sns\n",
    "import time\n",
    "from scipy.sparse import csr_matrix"
   ]
  },
  {
   "cell_type": "code",
   "execution_count": 2,
   "metadata": {},
   "outputs": [],
   "source": [
    "df=pd.read_csv('data/fingerprints_gt_ver3.csv')"
   ]
  },
  {
   "cell_type": "code",
   "execution_count": 3,
   "metadata": {},
   "outputs": [
    {
     "data": {
      "text/html": [
       "<div>\n",
       "<style scoped>\n",
       "    .dataframe tbody tr th:only-of-type {\n",
       "        vertical-align: middle;\n",
       "    }\n",
       "\n",
       "    .dataframe tbody tr th {\n",
       "        vertical-align: top;\n",
       "    }\n",
       "\n",
       "    .dataframe thead th {\n",
       "        text-align: right;\n",
       "    }\n",
       "</style>\n",
       "<table border=\"1\" class=\"dataframe\">\n",
       "  <thead>\n",
       "    <tr style=\"text-align: right;\">\n",
       "      <th></th>\n",
       "      <th>fr_observation_time</th>\n",
       "      <th>fr_values</th>\n",
       "      <th>fr_mac_address_id</th>\n",
       "      <th>zo_name</th>\n",
       "    </tr>\n",
       "  </thead>\n",
       "  <tbody>\n",
       "    <tr>\n",
       "      <th>0</th>\n",
       "      <td>2015-12-08 10:00:13</td>\n",
       "      <td>{'12': '-69', '33': '-61', '128': '-68', '276'...</td>\n",
       "      <td>2002427</td>\n",
       "      <td>Zone 355</td>\n",
       "    </tr>\n",
       "    <tr>\n",
       "      <th>1</th>\n",
       "      <td>2015-12-08 10:00:13</td>\n",
       "      <td>{'9': '-83', '13': '-67', '33': '-62', '101': ...</td>\n",
       "      <td>3192369</td>\n",
       "      <td>Zone 355</td>\n",
       "    </tr>\n",
       "    <tr>\n",
       "      <th>2</th>\n",
       "      <td>2015-12-08 10:00:14</td>\n",
       "      <td>{'9': '-83', '10': '-77', '11': '-85', '12': '...</td>\n",
       "      <td>2002427</td>\n",
       "      <td>Zone 355</td>\n",
       "    </tr>\n",
       "    <tr>\n",
       "      <th>3</th>\n",
       "      <td>2015-12-08 10:00:14</td>\n",
       "      <td>{'9': '-86', '10': '-83', '11': '-87', '12': '...</td>\n",
       "      <td>3192369</td>\n",
       "      <td>Zone 355</td>\n",
       "    </tr>\n",
       "    <tr>\n",
       "      <th>4</th>\n",
       "      <td>2015-12-08 10:00:15</td>\n",
       "      <td>{'10': '-76', '11': '-86', '12': '-65', '13': ...</td>\n",
       "      <td>480806</td>\n",
       "      <td>Zone 355</td>\n",
       "    </tr>\n",
       "  </tbody>\n",
       "</table>\n",
       "</div>"
      ],
      "text/plain": [
       "   fr_observation_time                                          fr_values  \\\n",
       "0  2015-12-08 10:00:13  {'12': '-69', '33': '-61', '128': '-68', '276'...   \n",
       "1  2015-12-08 10:00:13  {'9': '-83', '13': '-67', '33': '-62', '101': ...   \n",
       "2  2015-12-08 10:00:14  {'9': '-83', '10': '-77', '11': '-85', '12': '...   \n",
       "3  2015-12-08 10:00:14  {'9': '-86', '10': '-83', '11': '-87', '12': '...   \n",
       "4  2015-12-08 10:00:15  {'10': '-76', '11': '-86', '12': '-65', '13': ...   \n",
       "\n",
       "   fr_mac_address_id   zo_name  \n",
       "0            2002427  Zone 355  \n",
       "1            3192369  Zone 355  \n",
       "2            2002427  Zone 355  \n",
       "3            3192369  Zone 355  \n",
       "4             480806  Zone 355  "
      ]
     },
     "execution_count": 3,
     "metadata": {},
     "output_type": "execute_result"
    }
   ],
   "source": [
    "df.head(5)"
   ]
  },
  {
   "cell_type": "markdown",
   "metadata": {},
   "source": [
    "Fingerprint is in dictionary format and string encoded in column *fr_values*. Fill missing values with $-100$ and cast as *int16* which is more than enough for $x\\in\\mathbb{N}, [-100,0]$."
   ]
  },
  {
   "cell_type": "code",
   "execution_count": 4,
   "metadata": {},
   "outputs": [],
   "source": [
    "df_fp=pd.DataFrame.from_records(df.fr_values.apply(ast.literal_eval))\\\n",
    "                  .fillna(-100)\\\n",
    "                  .astype('int16')"
   ]
  },
  {
   "cell_type": "markdown",
   "metadata": {},
   "source": [
    "## Some EDA"
   ]
  },
  {
   "cell_type": "markdown",
   "metadata": {},
   "source": [
    "### Number of received signals"
   ]
  },
  {
   "cell_type": "markdown",
   "metadata": {},
   "source": [
    "Lets take a quick glance on the data."
   ]
  },
  {
   "cell_type": "code",
   "execution_count": 5,
   "metadata": {},
   "outputs": [
    {
     "data": {
      "text/html": [
       "<div>\n",
       "<style scoped>\n",
       "    .dataframe tbody tr th:only-of-type {\n",
       "        vertical-align: middle;\n",
       "    }\n",
       "\n",
       "    .dataframe tbody tr th {\n",
       "        vertical-align: top;\n",
       "    }\n",
       "\n",
       "    .dataframe thead th {\n",
       "        text-align: right;\n",
       "    }\n",
       "</style>\n",
       "<table border=\"1\" class=\"dataframe\">\n",
       "  <thead>\n",
       "    <tr style=\"text-align: right;\">\n",
       "      <th></th>\n",
       "      <th>1</th>\n",
       "      <th>10</th>\n",
       "      <th>101</th>\n",
       "      <th>102</th>\n",
       "      <th>103</th>\n",
       "      <th>104</th>\n",
       "      <th>105</th>\n",
       "      <th>107</th>\n",
       "      <th>109</th>\n",
       "      <th>11</th>\n",
       "      <th>...</th>\n",
       "      <th>89</th>\n",
       "      <th>9</th>\n",
       "      <th>90</th>\n",
       "      <th>91</th>\n",
       "      <th>92</th>\n",
       "      <th>93</th>\n",
       "      <th>94</th>\n",
       "      <th>97</th>\n",
       "      <th>98</th>\n",
       "      <th>99</th>\n",
       "    </tr>\n",
       "  </thead>\n",
       "  <tbody>\n",
       "    <tr>\n",
       "      <th>0</th>\n",
       "      <td>-100</td>\n",
       "      <td>-100</td>\n",
       "      <td>-100</td>\n",
       "      <td>-100</td>\n",
       "      <td>-100</td>\n",
       "      <td>-100</td>\n",
       "      <td>-100</td>\n",
       "      <td>-100</td>\n",
       "      <td>-100</td>\n",
       "      <td>-100</td>\n",
       "      <td>...</td>\n",
       "      <td>-100</td>\n",
       "      <td>-100</td>\n",
       "      <td>-100</td>\n",
       "      <td>-100</td>\n",
       "      <td>-100</td>\n",
       "      <td>-100</td>\n",
       "      <td>-100</td>\n",
       "      <td>-100</td>\n",
       "      <td>-100</td>\n",
       "      <td>-100</td>\n",
       "    </tr>\n",
       "    <tr>\n",
       "      <th>1</th>\n",
       "      <td>-100</td>\n",
       "      <td>-100</td>\n",
       "      <td>-64</td>\n",
       "      <td>-100</td>\n",
       "      <td>-100</td>\n",
       "      <td>-100</td>\n",
       "      <td>-100</td>\n",
       "      <td>-100</td>\n",
       "      <td>-100</td>\n",
       "      <td>-100</td>\n",
       "      <td>...</td>\n",
       "      <td>-100</td>\n",
       "      <td>-83</td>\n",
       "      <td>-100</td>\n",
       "      <td>-100</td>\n",
       "      <td>-100</td>\n",
       "      <td>-100</td>\n",
       "      <td>-100</td>\n",
       "      <td>-100</td>\n",
       "      <td>-100</td>\n",
       "      <td>-100</td>\n",
       "    </tr>\n",
       "    <tr>\n",
       "      <th>2</th>\n",
       "      <td>-100</td>\n",
       "      <td>-77</td>\n",
       "      <td>-69</td>\n",
       "      <td>-71</td>\n",
       "      <td>-100</td>\n",
       "      <td>-100</td>\n",
       "      <td>-100</td>\n",
       "      <td>-100</td>\n",
       "      <td>-100</td>\n",
       "      <td>-85</td>\n",
       "      <td>...</td>\n",
       "      <td>-100</td>\n",
       "      <td>-83</td>\n",
       "      <td>-100</td>\n",
       "      <td>-100</td>\n",
       "      <td>-100</td>\n",
       "      <td>-100</td>\n",
       "      <td>-100</td>\n",
       "      <td>-100</td>\n",
       "      <td>-79</td>\n",
       "      <td>-74</td>\n",
       "    </tr>\n",
       "    <tr>\n",
       "      <th>3</th>\n",
       "      <td>-100</td>\n",
       "      <td>-83</td>\n",
       "      <td>-65</td>\n",
       "      <td>-100</td>\n",
       "      <td>-100</td>\n",
       "      <td>-100</td>\n",
       "      <td>-100</td>\n",
       "      <td>-100</td>\n",
       "      <td>-100</td>\n",
       "      <td>-87</td>\n",
       "      <td>...</td>\n",
       "      <td>-100</td>\n",
       "      <td>-86</td>\n",
       "      <td>-100</td>\n",
       "      <td>-100</td>\n",
       "      <td>-100</td>\n",
       "      <td>-100</td>\n",
       "      <td>-100</td>\n",
       "      <td>-100</td>\n",
       "      <td>-100</td>\n",
       "      <td>-80</td>\n",
       "    </tr>\n",
       "    <tr>\n",
       "      <th>4</th>\n",
       "      <td>-100</td>\n",
       "      <td>-76</td>\n",
       "      <td>-65</td>\n",
       "      <td>-100</td>\n",
       "      <td>-100</td>\n",
       "      <td>-100</td>\n",
       "      <td>-100</td>\n",
       "      <td>-100</td>\n",
       "      <td>-100</td>\n",
       "      <td>-86</td>\n",
       "      <td>...</td>\n",
       "      <td>-100</td>\n",
       "      <td>-100</td>\n",
       "      <td>-100</td>\n",
       "      <td>-100</td>\n",
       "      <td>-100</td>\n",
       "      <td>-100</td>\n",
       "      <td>-100</td>\n",
       "      <td>-100</td>\n",
       "      <td>-100</td>\n",
       "      <td>-100</td>\n",
       "    </tr>\n",
       "  </tbody>\n",
       "</table>\n",
       "<p>5 rows × 261 columns</p>\n",
       "</div>"
      ],
      "text/plain": [
       "     1   10  101  102  103  104  105  107  109   11 ...    89    9   90   91  \\\n",
       "0 -100 -100 -100 -100 -100 -100 -100 -100 -100 -100 ...  -100 -100 -100 -100   \n",
       "1 -100 -100  -64 -100 -100 -100 -100 -100 -100 -100 ...  -100  -83 -100 -100   \n",
       "2 -100  -77  -69  -71 -100 -100 -100 -100 -100  -85 ...  -100  -83 -100 -100   \n",
       "3 -100  -83  -65 -100 -100 -100 -100 -100 -100  -87 ...  -100  -86 -100 -100   \n",
       "4 -100  -76  -65 -100 -100 -100 -100 -100 -100  -86 ...  -100 -100 -100 -100   \n",
       "\n",
       "    92   93   94   97   98   99  \n",
       "0 -100 -100 -100 -100 -100 -100  \n",
       "1 -100 -100 -100 -100 -100 -100  \n",
       "2 -100 -100 -100 -100  -79  -74  \n",
       "3 -100 -100 -100 -100 -100  -80  \n",
       "4 -100 -100 -100 -100 -100 -100  \n",
       "\n",
       "[5 rows x 261 columns]"
      ]
     },
     "execution_count": 5,
     "metadata": {},
     "output_type": "execute_result"
    }
   ],
   "source": [
    "df_fp.head()"
   ]
  },
  {
   "cell_type": "markdown",
   "metadata": {},
   "source": [
    "It appears that most of the signals are at -100 which corresponds to \"out of receiption range\". Let's quantifiy this a little bit more by plotting the distribution of number of received signals per sample in the data set."
   ]
  },
  {
   "cell_type": "code",
   "execution_count": 161,
   "metadata": {
    "scrolled": true
   },
   "outputs": [
    {
     "data": {
      "image/png": "[encoded data removed]",
      "text/plain": [
       "<matplotlib.figure.Figure at 0x1d4f0c4f5f8>"
      ]
     },
     "metadata": {},
     "output_type": "display_data"
    }
   ],
   "source": [
    "values=(df_fp>-100).transpose().sum()\n",
    "\n",
    "sns.distplot(values, kde=False, norm_hist=False, bins=test.max()-1)\n",
    "plt.xlabel('number of received signals ($>-100$)')\n",
    "plt.ylabel('distribution (total sample count)')\n",
    "plt.show()"
   ]
  },
  {
   "cell_type": "code",
   "execution_count": 166,
   "metadata": {},
   "outputs": [
    {
     "name": "stdout",
     "output_type": "stream",
     "text": [
      "Count of samples where only one signal was received: 0\n"
     ]
    }
   ],
   "source": [
    "print('Count of samples where only one signal was received:', (values==1).sum())"
   ]
  },
  {
   "cell_type": "markdown",
   "metadata": {},
   "source": [
    "As indicated by the data, the majority of the samples received signals from less than 20 out of the 261 nodes. Interestingly, samples with only one received signal do not exist and have likely been removed.\n",
    "\n",
    "Lets plot the same distribution splitted up for the 5 different zones with the highest number of samples in the data set:"
   ]
  },
  {
   "cell_type": "code",
   "execution_count": 170,
   "metadata": {},
   "outputs": [
    {
     "data": {
      "text/plain": [
       "<matplotlib.legend.Legend at 0x1d20e1315f8>"
      ]
     },
     "execution_count": 170,
     "metadata": {},
     "output_type": "execute_result"
    },
    {
     "data": {
      "image/png": "[encoded data removed]",
      "text/plain": [
       "<matplotlib.figure.Figure at 0x1d221d63c88>"
      ]
     },
     "metadata": {},
     "output_type": "display_data"
    }
   ],
   "source": [
    "for i, label in enumerate(df.zo_name.value_counts().index[:5]):\n",
    "    values=(df_fp[df.zo_name==label]>-100).transpose().sum()\n",
    "    sns.distplot(values,  label=label, bins=values.max()-1, kde=False)\n",
    "plt.xlabel('number of received signals ($>-100$)')\n",
    "plt.ylabel('distribution (total sample count)')\n",
    "plt.legend()"
   ]
  },
  {
   "cell_type": "markdown",
   "metadata": {},
   "source": [
    "As expected and indicated by the figure, different zones receive on average different numbers of signals. This property can be used to include signal counts, i.e., *sum(lambda s: s>-100) for s in sample*, as additional feature in the model."
   ]
  },
  {
   "cell_type": "markdown",
   "metadata": {},
   "source": [
    "### Signal strength"
   ]
  },
  {
   "cell_type": "markdown",
   "metadata": {},
   "source": [
    "Now let us investigate the signal itself. First we draw a distribution for all signals (>-100) in the data set."
   ]
  },
  {
   "cell_type": "code",
   "execution_count": 172,
   "metadata": {},
   "outputs": [
    {
     "data": {
      "text/plain": [
       "Text(0,0.5,'distribution (total sample count)')"
      ]
     },
     "execution_count": 172,
     "metadata": {},
     "output_type": "execute_result"
    },
    {
     "data": {
      "image/png": "[encoded data removed]",
      "text/plain": [
       "<matplotlib.figure.Figure at 0x1d2166a8208>"
      ]
     },
     "metadata": {},
     "output_type": "display_data"
    }
   ],
   "source": [
    "values=df_fp.values.reshape(-1,)\n",
    "sns.distplot(values, kde=False, norm_hist=False, bins=100+values.max())\n",
    "plt.xlim([-99,0])\n",
    "plt.ylim([0, 3e5])\n",
    "plt.xlabel('signal strength')\n",
    "plt.ylabel('distribution (total sample count)')"
   ]
  },
  {
   "cell_type": "code",
   "execution_count": 173,
   "metadata": {},
   "outputs": [
    {
     "name": "stdout",
     "output_type": "stream",
     "text": [
      "Strongest signal received: -13\n"
     ]
    }
   ],
   "source": [
    "print('Strongest signal received:', values.max())"
   ]
  },
  {
   "cell_type": "markdown",
   "metadata": {},
   "source": [
    "The signal strength follows a distribution centered around ~-70dB. Signals stronger than -13dB have not been received in this data set.\n",
    "\n",
    "Analog to before, we split the distribution down to 5 zones with high sample count:"
   ]
  },
  {
   "cell_type": "code",
   "execution_count": 174,
   "metadata": {},
   "outputs": [
    {
     "data": {
      "text/plain": [
       "(0, 2000.0)"
      ]
     },
     "execution_count": 174,
     "metadata": {},
     "output_type": "execute_result"
    },
    {
     "data": {
      "image/png": "[encoded data removed]",
      "text/plain": [
       "<matplotlib.figure.Figure at 0x1d222c64f98>"
      ]
     },
     "metadata": {},
     "output_type": "display_data"
    }
   ],
   "source": [
    "for i, label in enumerate(df.zo_name.value_counts().index[5:10]):\n",
    "    values=df_fp[df.zo_name==label].values.reshape(-1,)\n",
    "    sns.distplot(values,  label=label, bins=100+values.max(), kde=False)\n",
    "plt.xlabel('signal strength')\n",
    "plt.ylabel('distribution (total sample count)')    \n",
    "plt.legend()\n",
    "plt.xlim([-99,0])\n",
    "plt.ylim([0, 2e3])"
   ]
  },
  {
   "cell_type": "markdown",
   "metadata": {},
   "source": [
    "Also here we see deviations of e.g., width, x-shift, within the distribution for different zones. To utilize this in our model the data can be enriched by *f*=*max()*, *min()*, *mean()*, *sum()*, *std()* in *f(lambda s: s>-100) for s in sample*."
   ]
  },
  {
   "cell_type": "markdown",
   "metadata": {},
   "source": [
    "### Data quality"
   ]
  },
  {
   "cell_type": "markdown",
   "metadata": {},
   "source": [
    "How many samples exist in each zone? Let us investigate and plot the top 50 and the bottom 50 zones."
   ]
  },
  {
   "cell_type": "code",
   "execution_count": 185,
   "metadata": {},
   "outputs": [
    {
     "data": {
      "image/png": "[encoded data removed]",
      "text/plain": [
       "<matplotlib.figure.Figure at 0x1d2362c42b0>"
      ]
     },
     "metadata": {},
     "output_type": "display_data"
    },
    {
     "data": {
      "image/png": "[encoded data removed]",
      "text/plain": [
       "<matplotlib.figure.Figure at 0x1d222aec5f8>"
      ]
     },
     "metadata": {},
     "output_type": "display_data"
    }
   ],
   "source": [
    "zone_sample_count=df['zo_name'].value_counts()[:50]\n",
    "\n",
    "plt.figure(figsize=(10,10))\n",
    "sns.barplot(zone_sample_count.values, zone_sample_count.index, alpha=0.8)\n",
    "plt.title('50 most present zones in data set')\n",
    "\n",
    "zone_sample_count=df['zo_name'].value_counts()[-50:]\n",
    "\n",
    "plt.figure(figsize=(10,10))\n",
    "sns.barplot(zone_sample_count.values, zone_sample_count.index, alpha=0.8)\n",
    "plt.title('50 least present zones in data set')\n",
    "\n",
    "plt.show()"
   ]
  },
  {
   "cell_type": "markdown",
   "metadata": {},
   "source": [
    "Across the broad majority of the zones enough samples have been gathered to train a model. However, for the last 10 and particulary last three of the zones only <50 samples and <5 samples, respectively exist. For so little data leave-one-out validation schemes can be applied but deliver only a vague estimate of model performance. In this particular use-case gathering additional data for the underpresented zones should be the cost-effective alternative.\n",
    "\n",
    "Displaying the data set in terms of gathered samples for various mac id's yields the following plot:"
   ]
  },
  {
   "cell_type": "code",
   "execution_count": 189,
   "metadata": {},
   "outputs": [
    {
     "data": {
      "image/png": "[encoded data removed]",
      "text/plain": [
       "<matplotlib.figure.Figure at 0x1d21fe42fd0>"
      ]
     },
     "metadata": {},
     "output_type": "display_data"
    }
   ],
   "source": [
    "id_sample_count=df.fr_mac_address_id.value_counts()\n",
    "\n",
    "plt.figure(figsize=(17,3))\n",
    "sns.barplot(id_sample_count.index, id_sample_count.values, alpha=0.8)\n",
    "plt.title('Distribution of device mac_id in the data set')\n",
    "\n",
    "plt.show()"
   ]
  },
  {
   "cell_type": "markdown",
   "metadata": {},
   "source": [
    "Technically, a machine learning model can take into account the mac_id and thus capture additional device-specific effects which might improve the model. This can be done as additional categorical feature or even mac_id dependent model. Practically, data is to little and many zones very likely underrepresented if splitting the data by mac_id. Moreover, the task is to build a model based on the fingerprint only, therefore excluding the mac_id."
   ]
  },
  {
   "cell_type": "markdown",
   "metadata": {},
   "source": [
    "## Model Pre-selection"
   ]
  },
  {
   "cell_type": "markdown",
   "metadata": {},
   "source": [
    "### Data preperation"
   ]
  },
  {
   "cell_type": "markdown",
   "metadata": {},
   "source": [
    "We can further sparsify the data by adding $100$, thus changing the value range to $[0, 100]$ without changing the physical interpretation of decibel. Because most signals are only received by a hand-full of nodes we can greatly reduce required memory. Additionaly, for each fingerprint signal count, mean, sum, standard deviation and min/max values are added."
   ]
  },
  {
   "cell_type": "code",
   "execution_count": 5,
   "metadata": {},
   "outputs": [],
   "source": [
    "from sklearn import base\n",
    "\n",
    "class SparseEnrichTransformer(base.BaseEstimator, base.TransformerMixin):  \n",
    "    def transform(self, X):  \n",
    "        Xdiff=X+100\n",
    "        XnanT=Xdiff.replace(0, np.nan).transpose()\n",
    "        signal_std=XnanT.std().values.reshape(-1,1)\n",
    "        signal_min=XnanT.min().values.reshape(-1,1)\n",
    "        signal_max=XnanT.max().values.reshape(-1,1)\n",
    "        signal_sum=XnanT.sum().values.reshape(-1,1)\n",
    "        signal_mean=XnanT.mean().values.reshape(-1,1)\n",
    "        signal_count=XnanT.count().values.reshape(-1,1)\n",
    "\n",
    "        return csr_matrix(np.hstack([Xdiff.values, signal_std, signal_min, signal_max, signal_sum, signal_mean, signal_count]))"
   ]
  },
  {
   "cell_type": "markdown",
   "metadata": {},
   "source": [
    "Define a wrapper function for the scores:"
   ]
  },
  {
   "cell_type": "code",
   "execution_count": 6,
   "metadata": {},
   "outputs": [],
   "source": [
    "from sklearn.metrics import f1_score\n",
    "from sklearn.metrics import precision_score\n",
    "from sklearn.metrics import recall_score\n",
    "\n",
    "def macro_score(y_true, y_pred, labels=None, cm=False):\n",
    "    f1=f1_score(y_true, y_pred, average='macro')\n",
    "    precision=precision_score(y_true, y_pred, average='macro')\n",
    "    recall=recall_score(y_true, y_pred, average='macro')\n",
    "        \n",
    "    return np.array([f1, precision, recall])"
   ]
  },
  {
   "cell_type": "markdown",
   "metadata": {},
   "source": [
    "I chose a macroscopic average of the binary scores precision, recall and f1. Effectively, this means the scores do not take class inbalance into account. This is based on my assumption that the data set has been generated by a small team of people carrying around smartphones the various zones in the mall, thus not representing actual people traffic during business hours. As a result, each zone contributes equally to the score regardless of how little data has been gathered."
   ]
  },
  {
   "cell_type": "markdown",
   "metadata": {},
   "source": [
    "In order to get a quick overview over a sample of classifiers we only use the top 50 represented zones because the full multclass estimation becomes rather slow."
   ]
  },
  {
   "cell_type": "code",
   "execution_count": 7,
   "metadata": {},
   "outputs": [],
   "source": [
    "from sklearn.model_selection import train_test_split\n",
    "\n",
    "mask=df.zo_name.isin(df.zo_name.value_counts().index[:50])\n",
    "\n",
    "st=SparseEnrichTransformer()\n",
    "\n",
    "X=st.transform(df_fp[mask])\n",
    "y=df.zo_name[mask].values\n",
    "\n",
    "X_train, X_test, y_train, y_test = train_test_split(X, y, test_size=0.33, random_state=42, stratify=y)"
   ]
  },
  {
   "cell_type": "markdown",
   "metadata": {},
   "source": [
    "### Estimator benchmark"
   ]
  },
  {
   "cell_type": "markdown",
   "metadata": {},
   "source": [
    "Let it run for 6 default classifiers using a stratified train-test-split and measuring training & prediction times. Using very different kinds of classifiers, e.g., tree-based, linear, kernel-based, we get a good impression of what model to use.\n",
    "\n",
    "Given the mathematically compactness of the feature space, KNN might also be a good candidate for a classifier. KNN becomes rather slow in very high dimensional feature space which makes it necessary to chose some dimensionality-reduction scheme prior to the classifier. In this case PCA with 20 components is chosen."
   ]
  },
  {
   "cell_type": "code",
   "execution_count": 26,
   "metadata": {},
   "outputs": [
    {
     "data": {
      "text/html": [
       "<div>\n",
       "<style scoped>\n",
       "    .dataframe tbody tr th:only-of-type {\n",
       "        vertical-align: middle;\n",
       "    }\n",
       "\n",
       "    .dataframe tbody tr th {\n",
       "        vertical-align: top;\n",
       "    }\n",
       "\n",
       "    .dataframe thead th {\n",
       "        text-align: right;\n",
       "    }\n",
       "</style>\n",
       "<table border=\"1\" class=\"dataframe\">\n",
       "  <thead>\n",
       "    <tr style=\"text-align: right;\">\n",
       "      <th></th>\n",
       "      <th>estimator</th>\n",
       "      <th>f1_score</th>\n",
       "      <th>precision</th>\n",
       "      <th>recall</th>\n",
       "      <th>fit_time(sec)</th>\n",
       "      <th>predict_time(sec)</th>\n",
       "    </tr>\n",
       "  </thead>\n",
       "  <tbody>\n",
       "    <tr>\n",
       "      <th>0</th>\n",
       "      <td>NBC</td>\n",
       "      <td>0.755420</td>\n",
       "      <td>0.768951</td>\n",
       "      <td>0.762070</td>\n",
       "      <td>0.212428</td>\n",
       "      <td>0.021942</td>\n",
       "    </tr>\n",
       "    <tr>\n",
       "      <th>1</th>\n",
       "      <td>RFC</td>\n",
       "      <td>0.903268</td>\n",
       "      <td>0.904188</td>\n",
       "      <td>0.903086</td>\n",
       "      <td>8.255715</td>\n",
       "      <td>0.165580</td>\n",
       "    </tr>\n",
       "    <tr>\n",
       "      <th>2</th>\n",
       "      <td>GBC</td>\n",
       "      <td>0.872765</td>\n",
       "      <td>0.874112</td>\n",
       "      <td>0.872597</td>\n",
       "      <td>117.127843</td>\n",
       "      <td>0.252326</td>\n",
       "    </tr>\n",
       "    <tr>\n",
       "      <th>3</th>\n",
       "      <td>LR</td>\n",
       "      <td>0.891910</td>\n",
       "      <td>0.892458</td>\n",
       "      <td>0.892199</td>\n",
       "      <td>191.540966</td>\n",
       "      <td>0.020946</td>\n",
       "    </tr>\n",
       "    <tr>\n",
       "      <th>4</th>\n",
       "      <td>LSVC</td>\n",
       "      <td>0.805233</td>\n",
       "      <td>0.837189</td>\n",
       "      <td>0.811729</td>\n",
       "      <td>139.570708</td>\n",
       "      <td>0.023884</td>\n",
       "    </tr>\n",
       "    <tr>\n",
       "      <th>5</th>\n",
       "      <td>KNN</td>\n",
       "      <td>0.833633</td>\n",
       "      <td>0.835793</td>\n",
       "      <td>0.835067</td>\n",
       "      <td>0.379983</td>\n",
       "      <td>3.468285</td>\n",
       "    </tr>\n",
       "  </tbody>\n",
       "</table>\n",
       "</div>"
      ],
      "text/plain": [
       "  estimator  f1_score  precision    recall  fit_time(sec)  predict_time(sec)\n",
       "0       NBC  0.755420   0.768951  0.762070       0.212428           0.021942\n",
       "1       RFC  0.903268   0.904188  0.903086       8.255715           0.165580\n",
       "2       GBC  0.872765   0.874112  0.872597     117.127843           0.252326\n",
       "3        LR  0.891910   0.892458  0.892199     191.540966           0.020946\n",
       "4      LSVC  0.805233   0.837189  0.811729     139.570708           0.023884\n",
       "5       KNN  0.833633   0.835793  0.835067       0.379983           3.468285"
      ]
     },
     "execution_count": 26,
     "metadata": {},
     "output_type": "execute_result"
    }
   ],
   "source": [
    "from sklearn.ensemble import RandomForestClassifier, GradientBoostingClassifier\n",
    "from sklearn.svm import LinearSVC\n",
    "from sklearn.linear_model import LogisticRegression \n",
    "from sklearn.naive_bayes import MultinomialNB\n",
    "from sklearn.neighbors import KNeighborsClassifier\n",
    "from sklearn.decomposition import PCA\n",
    "\n",
    "#estimators that support sparse\n",
    "estimators=[('NBC', MultinomialNB()),\\\n",
    "            ('RFC', RandomForestClassifier()),\\\n",
    "            ('GBC', GradientBoostingClassifier(n_estimators=10)),\\\n",
    "            ('LR', LogisticRegression()),\\\n",
    "            ('LSVC', LinearSVC())]\n",
    "\n",
    "estimator_score=[]\n",
    "\n",
    "for name, estimator in estimators:\n",
    "    \n",
    "    score=np.array([0.0, 0.0, 0.0])\n",
    "    start_ts=time.time()\n",
    "    estimator.fit(X_train, y_train)\n",
    "    fit_ts=time.time()\n",
    "    prediction=estimator.predict(X_test)\n",
    "    pred_ts=time.time()\n",
    "\n",
    "    score=macro_score(y_test, prediction, cm=False)\n",
    "    estimator_score.append([name, score[0], score[1], score[2], fit_ts-start_ts, pred_ts-fit_ts])\n",
    " \n",
    "\n",
    "#estimators that do not support sparse\n",
    "pca=PCA(n_components=50)\n",
    "\n",
    "X_pca_train=pca.fit_transform(X_train.todense())\n",
    "X_pca_test=pca.transform(X_test.todense())\n",
    "\n",
    "knn=('KNN', KNeighborsClassifier())\n",
    "\n",
    "start_ts=time.time()\n",
    "knn[1].fit(X_pca_train, y_train)\n",
    "fit_ts=time.time()\n",
    "prediction=knn[1].predict(X_pca_test)\n",
    "pred_ts=time.time()\n",
    "\n",
    "score=macro_score(y_test, prediction, cm=False)\n",
    "estimator_score.append([knn[0], score[0], score[1], score[2], fit_ts-start_ts, pred_ts-fit_ts])\n",
    "\n",
    "pd.DataFrame(estimator_score, columns=['estimator','f1_score', 'precision', 'recall', 'fit_time(sec)', 'predict_time(sec)'])    "
   ]
  },
  {
   "cell_type": "markdown",
   "metadata": {},
   "source": [
    "following points:\n",
    "- the scores overall are already rather good without any hyperparameter tuning and advanced feature engineering, speaking for a high signal/noise ratio\n",
    "- precision and recall are most of the time very similar, indicating an equal amount of false negatives and false positives in our models which benefits the f1 score\n",
    "- linear models are slightly outperformed by non-linear tree-based models\n",
    "\n",
    "It is important to note that the displayed scores are over-positve because most of the labels are still excluded from the train data, thus reducing the risk of class confusion. However, based on the assumption of equal penalties for inclusion of all classes, it indicates a superior performance for the RFC... also in terms of training time.\n",
    "\n",
    "KNN is outperformed by RFC and LR and has the impactfull disadvantage of slow classification times. In its standard implementation KNN will not be feasable for customer live-tracking."
   ]
  },
  {
   "cell_type": "markdown",
   "metadata": {},
   "source": [
    "## Model Baseline"
   ]
  },
  {
   "cell_type": "markdown",
   "metadata": {},
   "source": [
    "### RandomForestClassifier"
   ]
  },
  {
   "cell_type": "markdown",
   "metadata": {},
   "source": [
    "Given the above insights we are ready to build a model on the entire data set. In doing so, we will focus on the RandomForestClassifier. Foremost, we kick the three zones with less than 5 data points which shoul be treated seperately."
   ]
  },
  {
   "cell_type": "code",
   "execution_count": 25,
   "metadata": {},
   "outputs": [],
   "source": [
    "from sklearn.model_selection import train_test_split\n",
    "\n",
    "mask=~df.zo_name.isin(['Zone 1', 'Zone 258', 'Zone 260'])\n",
    "\n",
    "st=SparseEnrichTransformer()\n",
    "\n",
    "X=st.transform(df_fp[mask])\n",
    "y=df.zo_name[mask].values\n",
    "\n",
    "X_train, X_test, y_train, y_test = train_test_split(X, y, test_size=0.33, random_state=42, stratify=y)"
   ]
  },
  {
   "cell_type": "markdown",
   "metadata": {},
   "source": [
    "We use the f1-score averaged by a 3-fold cross validation scheme to determine the best estimator given a multidimensional array of hyper parameters defined in *param_grid*. Computation time: $\\approx 2$h"
   ]
  },
  {
   "cell_type": "code",
   "execution_count": 14,
   "metadata": {},
   "outputs": [],
   "source": [
    "from sklearn.model_selection import GridSearchCV\n",
    "from sklearn.ensemble import RandomForestClassifier\n",
    "\n",
    "estimator=RandomForestClassifier()\n",
    "\n",
    "param_grid={'n_estimators': [10, 50], 'min_samples_leaf': [2, 5], 'max_depth': [10, 25, 40, 50]}\n",
    "\n",
    "gscv=GridSearchCV(estimator, param_grid, scoring='f1_macro', cv=3, return_train_score=True)\n",
    "\n",
    "gscv.fit(X_train, y_train)\n",
    "\n",
    "scores = pd.DataFrame(gscv.cv_results_)"
   ]
  },
  {
   "cell_type": "code",
   "execution_count": 11,
   "metadata": {},
   "outputs": [
    {
     "data": {
      "image/png": "[encoded data removed]",
      "text/plain": [
       "<matplotlib.figure.Figure at 0x28df7482f60>"
      ]
     },
     "metadata": {},
     "output_type": "display_data"
    }
   ],
   "source": [
    "sns.factorplot(x='param_max_depth', y='mean_test_score',\n",
    "               col='param_min_samples_leaf',\n",
    "               hue='param_n_estimators',\n",
    "               data=scores);"
   ]
  },
  {
   "cell_type": "code",
   "execution_count": 32,
   "metadata": {},
   "outputs": [
    {
     "name": "stderr",
     "output_type": "stream",
     "text": [
      "c:\\users\\philippkanehl\\appdata\\local\\programs\\python\\python36\\lib\\site-packages\\sklearn\\metrics\\classification.py:1137: UndefinedMetricWarning: F-score is ill-defined and being set to 0.0 in labels with no true samples.\n",
      "  'recall', 'true', average, warn_for)\n"
     ]
    },
    {
     "name": "stdout",
     "output_type": "stream",
     "text": [
      "f1 score of best estimator:  0.7071695102159151\n",
      "precision of best estimator:  0.7042863087284329\n",
      "recall of best estimator:  0.7351264689458854\n"
     ]
    },
    {
     "name": "stderr",
     "output_type": "stream",
     "text": [
      "c:\\users\\philippkanehl\\appdata\\local\\programs\\python\\python36\\lib\\site-packages\\sklearn\\metrics\\classification.py:1137: UndefinedMetricWarning: Recall is ill-defined and being set to 0.0 in labels with no true samples.\n",
      "  'recall', 'true', average, warn_for)\n"
     ]
    }
   ],
   "source": [
    "y_pred=gscv.best_estimator_.predict(X_test)\n",
    "\n",
    "best_score = macro_score(y_pred, y_test)\n",
    "\n",
    "print('f1 score of best estimator: ', best_score[0])\n",
    "print('precision of best estimator: ', best_score[1])\n",
    "print('recall of best estimator: ', best_score[2])"
   ]
  },
  {
   "cell_type": "markdown",
   "metadata": {},
   "source": [
    "As shown by the figures, depth and number of the trees favor the score. This is mainly because the 449(-3) zones require so many splits to disaggregate the feature space in all the individual zones. Also, due to the hight signal/noise ratio, regularization plays a minor role as indicated by an overall better score for smaller *min_samples_leaf*. However, Random Forrests require memory as $\\propto \\mathrm{Num(trees)}\\cdot 2^\\mathrm{depth}$, putting deeper and larger models out of reach for my mid-class Laptop (8GB) even though the score might increase further."
   ]
  },
  {
   "cell_type": "markdown",
   "metadata": {},
   "source": [
    "Let us visualize the scores on zone-level and identify the weak spots of the model with aid of the confusion matrix:"
   ]
  },
  {
   "cell_type": "code",
   "execution_count": 43,
   "metadata": {},
   "outputs": [],
   "source": [
    "labels=df.zo_name.unique()\n",
    "\n",
    "cm=confusion_matrix(y_test, y_pred, labels=labels)"
   ]
  },
  {
   "cell_type": "code",
   "execution_count": 77,
   "metadata": {},
   "outputs": [],
   "source": [
    "sum_true=cm.sum(axis=0)\n",
    "sum_pred=cm.sum(axis=1)\n",
    "hits=np.diagonal(cm)\n",
    "\n",
    "precision=hits/(sum_pred+1e-10)\n",
    "recall=hits/(sum_true+1e-10)\n",
    "\n",
    "f1=2.0*precision*recall/(precision+recall+1e-10)\n",
    "\n",
    "zone_scores=pd.DataFrame(np.hstack([f1.reshape(-1,1), recall.reshape(-1,1), precision.reshape(-1,1)]), index=labels, columns=['f1', 'recall', 'precision'])"
   ]
  },
  {
   "cell_type": "code",
   "execution_count": 79,
   "metadata": {},
   "outputs": [
    {
     "data": {
      "text/plain": [
       "<matplotlib.axes._subplots.AxesSubplot at 0x28d8fec3b38>"
      ]
     },
     "execution_count": 79,
     "metadata": {},
     "output_type": "execute_result"
    },
    {
     "data": {
      "image/png": "[encoded data removed]",
      "text/plain": [
       "<matplotlib.figure.Figure at 0x28d8fed5898>"
      ]
     },
     "metadata": {},
     "output_type": "display_data"
    }
   ],
   "source": [
    "top_50=zone_scores.sort_values('f1', ascending=False).iloc[:50]\n",
    "\n",
    "plt.figure(figsize=(10,10))\n",
    "sns.barplot(y=top_50.index, x=\"f1\", data=top_50, alpha=0.8)"
   ]
  },
  {
   "cell_type": "code",
   "execution_count": 88,
   "metadata": {},
   "outputs": [
    {
     "data": {
      "text/plain": [
       "<matplotlib.axes._subplots.AxesSubplot at 0x28dbc88fac8>"
      ]
     },
     "execution_count": 88,
     "metadata": {},
     "output_type": "execute_result"
    },
    {
     "data": {
      "image/png": "[encoded data removed]",
      "text/plain": [
       "<matplotlib.figure.Figure at 0x28dbaff1438>"
      ]
     },
     "metadata": {},
     "output_type": "display_data"
    }
   ],
   "source": [
    "bottom_50=zone_scores.sort_values('f1', ascending=False).iloc[-50:]\n",
    "\n",
    "plt.figure(figsize=(10,10))\n",
    "sns.barplot(y=bottom_50.index, x=\"f1\", data=bottom_50, alpha=0.8)"
   ]
  },
  {
   "cell_type": "markdown",
   "metadata": {},
   "source": [
    "The bottom 50 zones are poorly captured by the model and require additional treatment, e.g., one-vs-rest models, but mainly more data! This becomes evident by measuring the intersection of the 50 least represented zones with 50 poorest predicted zones:"
   ]
  },
  {
   "cell_type": "code",
   "execution_count": 91,
   "metadata": {},
   "outputs": [
    {
     "data": {
      "text/plain": [
       "43"
      ]
     },
     "execution_count": 91,
     "metadata": {},
     "output_type": "execute_result"
    }
   ],
   "source": [
    "len(bottom_50.index.intersection(df.zo_name.value_counts().index[-50:]))"
   ]
  },
  {
   "cell_type": "markdown",
   "metadata": {},
   "source": [
    "### Shallow Neural Network"
   ]
  },
  {
   "cell_type": "markdown",
   "metadata": {},
   "source": [
    "Because the simple logistic regression fell just slightly behind the Random Forest Classifier in the Model Pre-Selection Section, it might be worthwhile to investigate a shallow Neural Network which can capture some of the non-linear behavior. To the softmax layer of the multinomial logistic regression two fully connected layers with relu activation are added."
   ]
  },
  {
   "cell_type": "code",
   "execution_count": 22,
   "metadata": {},
   "outputs": [
    {
     "name": "stdout",
     "output_type": "stream",
     "text": [
      "_________________________________________________________________\n",
      "Layer (type)                 Output Shape              Param #   \n",
      "=================================================================\n",
      "dense_16 (Dense)             (None, 1000)              268000    \n",
      "_________________________________________________________________\n",
      "dense_17 (Dense)             (None, 500)               500500    \n",
      "_________________________________________________________________\n",
      "dense_18 (Dense)             (None, 446)               223446    \n",
      "=================================================================\n",
      "Total params: 991,946\n",
      "Trainable params: 991,946\n",
      "Non-trainable params: 0\n",
      "_________________________________________________________________\n",
      "None\n"
     ]
    }
   ],
   "source": [
    "import keras\n",
    "from keras.layers.merge import Concatenate\n",
    "from keras.models import Model\n",
    "from keras.models import Sequential\n",
    "from keras.layers import Input, Dense\n",
    "from keras.layers import Dropout\n",
    "from keras.layers.core import Dense, Activation, Lambda, Reshape, Flatten\n",
    "import logging\n",
    "from sklearn.metrics import roc_auc_score\n",
    "from keras.callbacks import Callback\n",
    "\n",
    "class IntervalEvaluation(Callback):\n",
    "    def __init__(self, validation_data=(), interval=10):\n",
    "        super(Callback, self).__init__()\n",
    "        self.interval = interval\n",
    "        self.X_val, self.y_val = validation_data\n",
    "\n",
    "    def on_epoch_end(self, epoch, logs={}):\n",
    "        if epoch % self.interval == 0:\n",
    "            y_pred = self.model.predict(self.X_val, verbose=0)\n",
    "            \n",
    "            score=f1_score(self.y_val.argmax(axis=-1), y_pred.argmax(axis=-1), average='macro')\n",
    "            \n",
    "            print(\"interval evaluation - epoch: {:d} - f1 score: {:.6f}\".format(epoch+1, score))\n",
    "            \n",
    "            \n",
    "model = Sequential()\n",
    "model.add(Dense(1000, input_dim=X.shape[1], activation='relu'))\n",
    "model.add(Dense(500, activation='relu'))\n",
    "model.add(Dense(df.zo_name.nunique()-3, activation='softmax'))\n",
    "\n",
    "model.compile(loss='categorical_crossentropy', optimizer='adam', metrics=['accuracy'])\n",
    "\n",
    "print(model.summary())"
   ]
  },
  {
   "cell_type": "code",
   "execution_count": 23,
   "metadata": {
    "scrolled": true
   },
   "outputs": [
    {
     "name": "stdout",
     "output_type": "stream",
     "text": [
      "Epoch 1/20\n",
      "230103/230103 [==============================] - 92s 401us/step - loss: 1.6655 - acc: 0.5310\n",
      "interval evaluation - epoch: 1 - f1 score: 0.584671\n",
      "Epoch 2/20\n",
      "   384/230103 [..............................] - ETA: 1:33 - loss: 1.0658 - acc: 0.6250"
     ]
    },
    {
     "name": "stderr",
     "output_type": "stream",
     "text": [
      "c:\\users\\philippkanehl\\appdata\\local\\programs\\python\\python36\\lib\\site-packages\\sklearn\\metrics\\classification.py:1135: UndefinedMetricWarning: F-score is ill-defined and being set to 0.0 in labels with no predicted samples.\n",
      "  'precision', 'predicted', average, warn_for)\n"
     ]
    },
    {
     "name": "stdout",
     "output_type": "stream",
     "text": [
      "230103/230103 [==============================] - 94s 410us/step - loss: 0.9759 - acc: 0.66206s - \n",
      "interval evaluation - epoch: 2 - f1 score: 0.628859\n",
      "Epoch 3/20\n",
      "230103/230103 [==============================] - 93s 404us/step - loss: 0.8687 - acc: 0.69611s - loss: 0\n",
      "interval evaluation - epoch: 3 - f1 score: 0.646124\n",
      "Epoch 4/20\n",
      "230103/230103 [==============================] - 92s 400us/step - loss: 0.8061 - acc: 0.7157\n",
      "interval evaluation - epoch: 4 - f1 score: 0.662036\n",
      "Epoch 5/20\n",
      "230103/230103 [==============================] - 91s 397us/step - loss: 0.7588 - acc: 0.7312\n",
      "interval evaluation - epoch: 5 - f1 score: 0.677082\n",
      "Epoch 6/20\n",
      "230103/230103 [==============================] - 101s 437us/step - loss: 0.7212 - acc: 0.7433\n",
      "interval evaluation - epoch: 6 - f1 score: 0.682656\n",
      "Epoch 7/20\n",
      "230103/230103 [==============================] - 93s 404us/step - loss: 0.6886 - acc: 0.7533\n",
      "interval evaluation - epoch: 7 - f1 score: 0.679144\n",
      "Epoch 8/20\n",
      "230103/230103 [==============================] - 94s 408us/step - loss: 0.6593 - acc: 0.7629\n",
      "interval evaluation - epoch: 8 - f1 score: 0.691602\n",
      "Epoch 9/20\n",
      "230103/230103 [==============================] - 93s 404us/step - loss: 0.6366 - acc: 0.7705\n",
      "interval evaluation - epoch: 9 - f1 score: 0.689024\n",
      "Epoch 10/20\n",
      "230103/230103 [==============================] - 93s 404us/step - loss: 0.6132 - acc: 0.7792\n",
      "interval evaluation - epoch: 10 - f1 score: 0.691324\n",
      "Epoch 11/20\n",
      "230103/230103 [==============================] - 90s 391us/step - loss: 0.5925 - acc: 0.7846\n",
      "interval evaluation - epoch: 11 - f1 score: 0.690314\n",
      "Epoch 12/20\n",
      "230103/230103 [==============================] - 89s 387us/step - loss: 0.5734 - acc: 0.7915\n",
      "interval evaluation - epoch: 12 - f1 score: 0.693667\n",
      "Epoch 13/20\n",
      "230103/230103 [==============================] - 94s 407us/step - loss: 0.5578 - acc: 0.7976\n",
      "interval evaluation - epoch: 13 - f1 score: 0.693247\n",
      "Epoch 14/20\n",
      "230103/230103 [==============================] - 97s 423us/step - loss: 0.5436 - acc: 0.8016\n",
      "interval evaluation - epoch: 14 - f1 score: 0.698355\n",
      "Epoch 15/20\n",
      "230103/230103 [==============================] - 92s 400us/step - loss: 0.5262 - acc: 0.8089\n",
      "interval evaluation - epoch: 15 - f1 score: 0.697300\n",
      "Epoch 16/20\n",
      "230103/230103 [==============================] - 90s 392us/step - loss: 0.5118 - acc: 0.8134\n",
      "interval evaluation - epoch: 16 - f1 score: 0.697353\n",
      "Epoch 17/20\n",
      "230103/230103 [==============================] - 94s 410us/step - loss: 0.5019 - acc: 0.81665s - loss: 0.4994  - ETA: 4s\n",
      "interval evaluation - epoch: 17 - f1 score: 0.692807\n",
      "Epoch 18/20\n",
      "230103/230103 [==============================] - 90s 390us/step - loss: 0.4907 - acc: 0.8208\n",
      "interval evaluation - epoch: 18 - f1 score: 0.700438\n",
      "Epoch 19/20\n",
      "230103/230103 [==============================] - 94s 408us/step - loss: 0.4817 - acc: 0.8247\n",
      "interval evaluation - epoch: 19 - f1 score: 0.698664\n",
      "Epoch 20/20\n",
      "230103/230103 [==============================] - 90s 393us/step - loss: 0.4701 - acc: 0.8289\n",
      "interval evaluation - epoch: 20 - f1 score: 0.698352\n"
     ]
    },
    {
     "data": {
      "text/plain": [
       "<keras.callbacks.History at 0x28dc2ed9518>"
      ]
     },
     "execution_count": 23,
     "metadata": {},
     "output_type": "execute_result"
    }
   ],
   "source": [
    "X_train, X_test, y_train, y_test = train_test_split(X, pd.get_dummies(y).values, test_size=0.33, random_state=42, stratify=y.values)\n",
    "\n",
    "ival = IntervalEvaluation(validation_data=(X_test, y_test), interval=1)\n",
    "\n",
    "model.fit(X_train, y_train, epochs=20, verbose=1, callbacks=[ival], batch_size=128)"
   ]
  },
  {
   "cell_type": "markdown",
   "metadata": {},
   "source": [
    "After 20 epochs the untuned Neural Network can keep up with the optimized Random Forest Classifier (RFC) in terms of average F1 score. Moreover, with less than 1M neurons the memory consumption is much smaller than that of the RFC, and prediction times significantly faster respectively. Definitely worth a closer look for an extensive hyper-parameter study :-) But unfortunately out of my scope."
   ]
  },
  {
   "cell_type": "markdown",
   "metadata": {},
   "source": [
    "## Next Steps"
   ]
  },
  {
   "cell_type": "markdown",
   "metadata": {},
   "source": [
    "What can be done to further impove the score:\n",
    "- **ensembling of different models:** because model scores were not too far apart (see model pre-selection), different models (tree based, linear, neural network) can be blended or combined using a super learner to reduce overfitting\n",
    "- **more features:** more features can be added due to, e.g., signal binning, adding categorical mac_id\n",
    "- **gather more data:** more data is always better "
   ]
  },
  {
   "cell_type": "markdown",
   "metadata": {},
   "source": [
    "More importantly for the further progression than the naked F1 score is the business idea behind the live tracking. Answering the question: Is it more important to capture correctly on zone-level (macro average of scores) if for example the data is sold to each retailer within the mall individually, or on customer level (micro average; possible class inbalances) classifying as many customers correctly as possible?"
   ]
  },
  {
   "cell_type": "markdown",
   "metadata": {},
   "source": [
    "Thank you for sharing this challenge with me :-)"
   ]
  }
 ],
 "metadata": {
  "kernelspec": {
   "display_name": "Python 3",
   "language": "python",
   "name": "python3"
  },
  "language_info": {
   "codemirror_mode": {
    "name": "ipython",
    "version": 3
   },
   "file_extension": ".py",
   "mimetype": "text/x-python",
   "name": "python",
   "nbconvert_exporter": "python",
   "pygments_lexer": "ipython3",
   "version": "3.6.4"
  }
 },
 "nbformat": 4,
 "nbformat_minor": 2
}
